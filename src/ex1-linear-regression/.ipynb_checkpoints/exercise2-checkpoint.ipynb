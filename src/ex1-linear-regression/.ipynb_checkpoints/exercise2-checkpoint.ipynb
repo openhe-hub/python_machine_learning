{
 "cells": [
  {
   "cell_type": "markdown",
   "metadata": {
    "collapsed": true,
    "pycharm": {
     "name": "#%% md\n"
    }
   },
   "source": [
    "## ML Ex1.1 Linear Regression(One Variable)\n",
    "### Question:\n",
    "In this part, you will implement linear regression with multiple variables to predict\n",
    "the prices of houses. Suppose you are selling your house, and you want to know what a\n",
    "good market price would be. One way to do this is to first collect information on\n",
    "recent houses sold and make a model of housing prices. The file ex1data2.txt contains\n",
    " a training set of housing prices in Portland, Oregon. The first column is the size\n",
    " of the house (in square feet), the second column is the number of bedrooms, and the\n",
    " third column is the price of the house.\n"
   ]
  },
  {
   "cell_type": "code",
   "execution_count": 1,
   "metadata": {
    "pycharm": {
     "name": "#%%\n"
    }
   },
   "outputs": [],
   "source": [
    "#import libs\n",
    "import matplotlib.pyplot as plt\n",
    "import numpy as np"
   ]
  },
  {
   "cell_type": "code",
   "execution_count": 2,
   "metadata": {
    "pycharm": {
     "name": "#%%\n"
    }
   },
   "outputs": [
    {
     "name": "stdout",
     "output_type": "stream",
     "text": [
      "size=2104.0,num of bedroom=3.0,price=399900.0\n",
      "size=1600.0,num of bedroom=3.0,price=329900.0\n",
      "size=2400.0,num of bedroom=3.0,price=369000.0\n",
      "size=1416.0,num of bedroom=2.0,price=232000.0\n",
      "size=3000.0,num of bedroom=4.0,price=539900.0\n",
      "size=1985.0,num of bedroom=4.0,price=299900.0\n",
      "size=1534.0,num of bedroom=3.0,price=314900.0\n",
      "size=1427.0,num of bedroom=3.0,price=198999.0\n",
      "size=1380.0,num of bedroom=3.0,price=212000.0\n",
      "size=1494.0,num of bedroom=3.0,price=242500.0\n",
      "size=1940.0,num of bedroom=4.0,price=239999.0\n",
      "size=2000.0,num of bedroom=3.0,price=347000.0\n",
      "size=1890.0,num of bedroom=3.0,price=329999.0\n",
      "size=4478.0,num of bedroom=5.0,price=699900.0\n",
      "size=1268.0,num of bedroom=3.0,price=259900.0\n",
      "size=2300.0,num of bedroom=4.0,price=449900.0\n",
      "size=1320.0,num of bedroom=2.0,price=299900.0\n",
      "size=1236.0,num of bedroom=3.0,price=199900.0\n",
      "size=2609.0,num of bedroom=4.0,price=499998.0\n",
      "size=3031.0,num of bedroom=4.0,price=599000.0\n",
      "size=1767.0,num of bedroom=3.0,price=252900.0\n",
      "size=1888.0,num of bedroom=2.0,price=255000.0\n",
      "size=1604.0,num of bedroom=3.0,price=242900.0\n",
      "size=1962.0,num of bedroom=4.0,price=259900.0\n",
      "size=3890.0,num of bedroom=3.0,price=573900.0\n",
      "size=1100.0,num of bedroom=3.0,price=249900.0\n",
      "size=1458.0,num of bedroom=3.0,price=464500.0\n",
      "size=2526.0,num of bedroom=3.0,price=469000.0\n",
      "size=2200.0,num of bedroom=3.0,price=475000.0\n",
      "size=2637.0,num of bedroom=3.0,price=299900.0\n",
      "size=1839.0,num of bedroom=2.0,price=349900.0\n",
      "size=1000.0,num of bedroom=1.0,price=169900.0\n",
      "size=2040.0,num of bedroom=4.0,price=314900.0\n",
      "size=3137.0,num of bedroom=3.0,price=579900.0\n",
      "size=1811.0,num of bedroom=4.0,price=285900.0\n",
      "size=1437.0,num of bedroom=3.0,price=249900.0\n",
      "size=1239.0,num of bedroom=3.0,price=229900.0\n",
      "size=2132.0,num of bedroom=4.0,price=345000.0\n",
      "size=4215.0,num of bedroom=4.0,price=549000.0\n",
      "size=2162.0,num of bedroom=4.0,price=287000.0\n",
      "size=1664.0,num of bedroom=2.0,price=368500.0\n",
      "size=2238.0,num of bedroom=3.0,price=329900.0\n",
      "size=2567.0,num of bedroom=4.0,price=314000.0\n",
      "size=1200.0,num of bedroom=3.0,price=299000.0\n",
      "size=852.0,num of bedroom=2.0,price=179900.0\n",
      "size=1852.0,num of bedroom=4.0,price=299900.0\n",
      "size=1203.0,num of bedroom=3.0,price=239500.0\n"
     ]
    }
   ],
   "source": [
    "#get data\n",
    "f=open(\"ex1data2.txt\")\n",
    "size,num,price=[],[],[]\n",
    "for line in f:\n",
    "    line=line.strip('\\n')\n",
    "    data=line.split(',')\n",
    "    size.append(float(data[0]))\n",
    "    num.append(float(data[1]))\n",
    "    price.append(float(data[2]))\n",
    "m=len(size)\n",
    "x=np.zeros([m,2])\n",
    "y=np.zeros(m)\n",
    "for i in range(m):\n",
    "    x[i][0]=size[i]\n",
    "    x[i][1]=num[i]\n",
    "    y[i]=price[i]\n",
    "    print(f'size={x[i][0]},num of bedroom={x[i][1]},price={y[i]}')"
   ]
  },
  {
   "cell_type": "markdown",
   "metadata": {
    "pycharm": {
     "name": "#%% md\n"
    }
   },
   "source": [
    "# Formulas:\n",
    "$$hypothesis\\ function: \\quad x=\\left[\n",
    " \\begin{matrix}\n",
    "   x_0  \\\\\n",
    "   x_1  \\\\\n",
    "   ...  \\\\x_n\n",
    "  \\end{matrix}\n",
    "  \\right] \\in\\mathbb{R}^{n+1}, \\theta=\\left[\n",
    " \\begin{matrix}\n",
    "   \\theta_0  \\\\\n",
    "   \\theta_1  \\\\\n",
    "   ...  \\\\\\theta_n\n",
    "  \\end{matrix}\n",
    "  \\right] \\in\\mathbb{R}^{n+1},( col \\ vectors)\\\\h_{\\theta}(x)=\\theta^{T}x\n",
    "$$\n",
    "$$cost\\ function: \\quad J(\\theta_0,\\theta_1,...,\\theta_n)=\\frac{1}{2m}\\sum_{i=1}^m(h_{\\theta}(x^{(i)})-y^{(i)})^2$$\n",
    " $$\\ gradient\\ descent: \\quad \\theta_j:=\\theta_j-\\alpha\\cdot \\frac{\\partial J(\\theta_0,\\theta_1)}{\\partial{\\theta_j}},j\\in\\{0,...,n\\}\\\\ \\Rightarrow\\theta_j:=\\theta_j-\\alpha\\cdot \\frac{1}{m}\\cdot \\sum_{i=1}^{m}{[(h(x^{(i)})-y^{(i)})}\\cdot x_j^{(i)}],j\\in\\{0,...,n\\}\\\\ $$\n",
    "\n"
   ]
  }
 ],
 "metadata": {
  "kernelspec": {
   "display_name": "Python 3",
   "language": "python",
   "name": "python3"
  },
  "language_info": {
   "codemirror_mode": {
    "name": "ipython",
    "version": 3
   },
   "file_extension": ".py",
   "mimetype": "text/x-python",
   "name": "python",
   "nbconvert_exporter": "python",
   "pygments_lexer": "ipython3",
   "version": "3.8.2"
  }
 },
 "nbformat": 4,
 "nbformat_minor": 1
}
